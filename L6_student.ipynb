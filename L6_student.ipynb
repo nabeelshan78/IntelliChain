{
 "cells": [
  {
   "cell_type": "markdown",
   "id": "d0670f1d-a612-4c45-b8e8-9be339e552d1",
   "metadata": {},
   "source": [
    "# Checking outputs"
   ]
  },
  {
   "cell_type": "code",
   "execution_count": 1,
   "id": "6af3568d",
   "metadata": {
    "height": 115
   },
   "outputs": [],
   "source": [
    "import os\n",
    "import openai\n",
    "from dotenv import load_dotenv, find_dotenv\n",
    "_ = load_dotenv(find_dotenv()) # read local .env file\n",
    "\n",
    "openai.api_key  = os.environ['OPENAI_API_KEY']"
   ]
  },
  {
   "cell_type": "code",
   "execution_count": 2,
   "id": "1a858d53",
   "metadata": {
    "height": 149
   },
   "outputs": [],
   "source": [
    "def get_completion_from_messages(messages, model=\"gpt-4o\", temperature=0, max_tokens=500):\n",
    "    response = openai.ChatCompletion.create(\n",
    "        model=model,\n",
    "        messages=messages,\n",
    "        temperature=temperature, \n",
    "        max_tokens=max_tokens\n",
    "    )\n",
    "    return response.choices[0].message[\"content\"]"
   ]
  },
  {
   "cell_type": "markdown",
   "id": "9f7d3db3-2258-48c9-819e-cfd8780416e3",
   "metadata": {},
   "source": [
    "### Check output for potentially harmful content"
   ]
  },
  {
   "cell_type": "code",
   "execution_count": 11,
   "id": "3f68d623",
   "metadata": {
    "height": 183
   },
   "outputs": [
    {
     "name": "stdout",
     "output_type": "stream",
     "text": [
      "\n",
      "The SmartX ProPhone features a 6.1-inch display, 128GB storage, and a 12MP dual camera with 5G capabilities. It's priced at $899.99 and comes with a 1-year warranty.\n",
      "The FotoSnap DSLR Camera offers a 24.2MP sensor, 1080p video, and interchangeable lenses. It's priced at $599.99 and also includes a 1-year warranty.\n",
      "For TVs, we have options like the CineView 4K TV with a 55-inch display and smart features for $599.99, and the CineView 8K TV with a 65-inch display for $2999.99.\n",
      "Are you interested in a specific TV size or feature?\n",
      "\n"
     ]
    }
   ],
   "source": [
    "final_response_to_customer = f\"\"\"\n",
    "The SmartX ProPhone features a 6.1-inch display, 128GB storage, and a 12MP dual camera with 5G capabilities. \\\n",
    "It's priced at $899.99 and comes with a 1-year warranty.\n",
    "The FotoSnap DSLR Camera offers a 24.2MP sensor, 1080p video, and interchangeable lenses. It's priced at $599.99 \\\n",
    "and also includes a 1-year warranty.\n",
    "For TVs, we have options like the CineView 4K TV with a 55-inch display and smart features for $599.99, and the \\\n",
    "CineView 8K TV with a 65-inch display for $2999.99.\n",
    "Are you interested in a specific TV size or feature?\n",
    "\"\"\"\n",
    "print(final_response_to_customer)"
   ]
  },
  {
   "cell_type": "code",
   "execution_count": 12,
   "id": "6164c53b",
   "metadata": {
    "height": 98
   },
   "outputs": [
    {
     "name": "stdout",
     "output_type": "stream",
     "text": [
      "{\n",
      "  \"flagged\": false,\n",
      "  \"categories\": {\n",
      "    \"sexual\": false,\n",
      "    \"hate\": false,\n",
      "    \"harassment\": false,\n",
      "    \"self-harm\": false,\n",
      "    \"sexual/minors\": false,\n",
      "    \"hate/threatening\": false,\n",
      "    \"violence/graphic\": false,\n",
      "    \"self-harm/intent\": false,\n",
      "    \"self-harm/instructions\": false,\n",
      "    \"harassment/threatening\": false,\n",
      "    \"violence\": false\n",
      "  },\n",
      "  \"category_scores\": {\n",
      "    \"sexual\": 2.7233798391534947e-05,\n",
      "    \"hate\": 3.468889246960316e-07,\n",
      "    \"harassment\": 2.998982381541282e-06,\n",
      "    \"self-harm\": 1.0272700592395267e-06,\n",
      "    \"sexual/minors\": 4.0506137111151475e-07,\n",
      "    \"hate/threatening\": 1.6803129483378143e-06,\n",
      "    \"violence/graphic\": 5.241236067377031e-05,\n",
      "    \"self-harm/intent\": 1.4027792758497526e-06,\n",
      "    \"self-harm/instructions\": 4.552663313006633e-08,\n",
      "    \"harassment/threatening\": 1.2444635103747714e-05,\n",
      "    \"violence\": 0.001675211824476719\n",
      "  }\n",
      "}\n"
     ]
    }
   ],
   "source": [
    "response = openai.Moderation.create(\n",
    "    input=final_response_to_customer\n",
    ")\n",
    "moderation_output = response[\"results\"][0]\n",
    "print(moderation_output)"
   ]
  },
  {
   "cell_type": "markdown",
   "id": "3dde612c-383e-444a-96d6-51c4f42dfb51",
   "metadata": {},
   "source": [
    "### Checking if output is factually based on the provided product information"
   ]
  },
  {
   "cell_type": "code",
   "execution_count": 13,
   "id": "602b60a3",
   "metadata": {
    "height": 285
   },
   "outputs": [],
   "source": [
    "system_message = f\"\"\"\n",
    "You are an assistant that evaluates whether \\\n",
    "customer service agent responses sufficiently \\\n",
    "answer customer questions, and also validates that \\\n",
    "all the facts the assistant cites from the product \\\n",
    "information are correct.\n",
    "The product information and user and customer \\\n",
    "service agent messages will be delimited by \\\n",
    "3 backticks, i.e. ```.\n",
    "Respond with a Y or N character, with no punctuation:\n",
    "Y - if the output sufficiently answers the question \\\n",
    "AND the response correctly uses product information\n",
    "N - otherwise\n",
    "\n",
    "Output a single letter only.\n",
    "\"\"\""
   ]
  },
  {
   "cell_type": "code",
   "execution_count": 14,
   "id": "e6b6abd1",
   "metadata": {
    "height": 81
   },
   "outputs": [],
   "source": [
    "customer_message = f\"\"\"\n",
    "tell me about the smartx pro phone and \\\n",
    "the fotosnap camera, the dslr one. \\\n",
    "Also tell me about your tvs\"\"\""
   ]
  },
  {
   "cell_type": "code",
   "execution_count": 15,
   "id": "ef6e394f",
   "metadata": {
    "height": 1951
   },
   "outputs": [],
   "source": [
    "product_information = \"\"\"\n",
    "{\n",
    "    \"name\": \"SmartX ProPhone\",\n",
    "    \"category\": \"Smartphones and Accessories\",\n",
    "    \"brand\": \"SmartX\",\n",
    "    \"model_number\": \"SX-PP10\",\n",
    "    \"warranty\": \"1 year\",\n",
    "    \"rating\": 4.6,\n",
    "    \"features\": [\n",
    "        \"6.1-inch display\",\n",
    "        \"128GB storage\",\n",
    "        \"12MP dual camera\",\n",
    "        \"5G\"\n",
    "    ],\n",
    "    \"description\": \"A powerful smartphone with advanced camera features.\",\n",
    "    \"price\": 899.99\n",
    "}\n",
    "{\n",
    "    \"name\": \"FotoSnap DSLR Camera\",\n",
    "    \"category\": \"Cameras and Camcorders\",\n",
    "    \"brand\": \"FotoSnap\",\n",
    "    \"model_number\": \"FS-DSLR200\",\n",
    "    \"warranty\": \"1 year\",\n",
    "    \"rating\": 4.7,\n",
    "    \"features\": [\n",
    "        \"24.2MP sensor\",\n",
    "        \"1080p video\",\n",
    "        \"3-inch LCD\",\n",
    "        \"Interchangeable lenses\"\n",
    "    ],\n",
    "    \"description\": \"Capture stunning photos and videos with this versatile DSLR camera.\",\n",
    "    \"price\": 599.99\n",
    "}\n",
    "{\n",
    "    \"name\": \"CineView 4K TV\",\n",
    "    \"category\": \"Televisions and Home Theater Systems\",\n",
    "    \"brand\": \"CineView\",\n",
    "    \"model_number\": \"CV-4K55\",\n",
    "    \"warranty\": \"2 years\",\n",
    "    \"rating\": 4.8,\n",
    "    \"features\": [\n",
    "        \"55-inch display\",\n",
    "        \"4K resolution\",\n",
    "        \"HDR\",\n",
    "        \"Smart TV\"\n",
    "    ],\n",
    "    \"description\": \"A stunning 4K TV with vibrant colors and smart features.\",\n",
    "    \"price\": 599.99\n",
    "}\n",
    "{\n",
    "    \"name\": \"SoundMax Home Theater\",\n",
    "    \"category\": \"Televisions and Home Theater Systems\",\n",
    "    \"brand\": \"SoundMax\",\n",
    "    \"model_number\": \"SM-HT100\",\n",
    "    \"warranty\": \"1 year\",\n",
    "    \"rating\": 4.4,\n",
    "    \"features\": [\n",
    "        \"5.1 channel\",\n",
    "        \"1000W output\",\n",
    "        \"Wireless subwoofer\",\n",
    "        \"Bluetooth\"\n",
    "    ],\n",
    "    \"description\": \"A powerful home theater system for an immersive audio experience.\",\n",
    "    \"price\": 399.99\n",
    "}\n",
    "{\n",
    "    \"name\": \"CineView 8K TV\",\n",
    "    \"category\": \"Televisions and Home Theater Systems\",\n",
    "    \"brand\": \"CineView\",\n",
    "    \"model_number\": \"CV-8K65\",\n",
    "    \"warranty\": \"2 years\",\n",
    "    \"rating\": 4.9,\n",
    "    \"features\": [\n",
    "        \"65-inch display\",\n",
    "        \"8K resolution\",\n",
    "        \"HDR\",\n",
    "        \"Smart TV\"\n",
    "    ],\n",
    "    \"description\": \"Experience the future of television with this stunning 8K TV.\",\n",
    "    \"price\": 2999.99\n",
    "}\n",
    "{\n",
    "    \"name\": \"SoundMax Soundbar\",\n",
    "    \"category\": \"Televisions and Home Theater Systems\",\n",
    "    \"brand\": \"SoundMax\",\n",
    "    \"model_number\": \"SM-SB50\",\n",
    "    \"warranty\": \"1 year\",\n",
    "    \"rating\": 4.3,\n",
    "    \"features\": [\n",
    "        \"2.1 channel\",\n",
    "        \"300W output\",\n",
    "        \"Wireless subwoofer\",\n",
    "        \"Bluetooth\"\n",
    "    ],\n",
    "    \"description\": \"Upgrade your TV's audio with this sleek and powerful soundbar.\",\n",
    "    \"price\": 199.99\n",
    "}\n",
    "{\n",
    "    \"name\": \"CineView OLED TV\",\n",
    "    \"category\": \"Televisions and Home Theater Systems\",\n",
    "    \"brand\": \"CineView\",\n",
    "    \"model_number\": \"CV-OLED55\",\n",
    "    \"warranty\": \"2 years\",\n",
    "    \"rating\": 4.7,\n",
    "    \"features\": [\n",
    "        \"55-inch display\",\n",
    "        \"4K resolution\",\n",
    "        \"HDR\",\n",
    "        \"Smart TV\"\n",
    "    ],\n",
    "    \"description\": \"Experience true blacks and vibrant colors with this OLED TV.\",\n",
    "    \"price\": 1499.99\n",
    "}\n",
    "\"\"\""
   ]
  },
  {
   "cell_type": "code",
   "execution_count": 16,
   "id": "e10670c2",
   "metadata": {
    "height": 183
   },
   "outputs": [],
   "source": [
    "q_a_pair = f\"\"\"\n",
    "Customer message: ```{customer_message}```\n",
    "Product information: ```{product_information}```\n",
    "Agent response: ```{final_response_to_customer}```\n",
    "\n",
    "Does the response use the retrieved information correctly?\n",
    "Does the response sufficiently answer the question\n",
    "\n",
    "Output Y or N\n",
    "\"\"\""
   ]
  },
  {
   "cell_type": "code",
   "execution_count": 17,
   "id": "732b6200",
   "metadata": {
    "height": 132
   },
   "outputs": [
    {
     "name": "stdout",
     "output_type": "stream",
     "text": [
      "Y\n"
     ]
    }
   ],
   "source": [
    "messages = [\n",
    "    {'role': 'system', 'content': system_message},\n",
    "    {'role': 'user', 'content': q_a_pair}\n",
    "]\n",
    "\n",
    "response = get_completion_from_messages(messages, max_tokens=1)\n",
    "print(response)"
   ]
  },
  {
   "cell_type": "code",
   "execution_count": null,
   "id": "bd7c4664",
   "metadata": {
    "height": 30
   },
   "outputs": [],
   "source": []
  },
  {
   "cell_type": "code",
   "execution_count": 18,
   "id": "6c33911c",
   "metadata": {
    "height": 336
   },
   "outputs": [
    {
     "name": "stdout",
     "output_type": "stream",
     "text": [
      "N\n"
     ]
    }
   ],
   "source": [
    "another_response = \"life is like a box of chocolates\"\n",
    "\n",
    "q_a_pair = f\"\"\"\n",
    "Customer message: ```{customer_message}```\n",
    "Product information: ```{product_information}```\n",
    "Agent response: ```{another_response}```\n",
    "\n",
    "Does the response use the retrieved information correctly?\n",
    "Does the response sufficiently answer the question?\n",
    "\n",
    "Output Y or N\n",
    "\"\"\"\n",
    "messages = [\n",
    "    {'role': 'system', 'content': system_message},\n",
    "    {'role': 'user', 'content': q_a_pair}\n",
    "]\n",
    "\n",
    "response = get_completion_from_messages(messages)\n",
    "print(response)"
   ]
  }
 ],
 "metadata": {
  "kernelspec": {
   "display_name": "Python 3 (ipykernel)",
   "language": "python",
   "name": "python3"
  },
  "language_info": {
   "codemirror_mode": {
    "name": "ipython",
    "version": 3
   },
   "file_extension": ".py",
   "mimetype": "text/x-python",
   "name": "python",
   "nbconvert_exporter": "python",
   "pygments_lexer": "ipython3",
   "version": "3.9.19"
  }
 },
 "nbformat": 4,
 "nbformat_minor": 5
}
