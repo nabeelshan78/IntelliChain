{
 "cells": [
  {
   "cell_type": "markdown",
   "id": "f14c4442-3fc5-4070-9ef2-bb33d30e6b38",
   "metadata": {},
   "source": [
    "# LLMs for Input Classification & Structured Output\n",
    "\n",
    "This notebook demonstrates how to use an LLM for a common and powerful task: **classifying user input**. We instruct the model to categorize customer service queries into a predefined two-level hierarchy.\n",
    "\n",
    "### Key Techniques Shown:\n",
    "\n",
    "* **Classification via Prompting**: The `system` message provides the model with detailed instructions, including the list of valid primary and secondary categories to choose from.\n",
    "* **Guaranteed JSON Output**: We use `response_format={\"type\": \"json_object\"}` in the API call. This is a crucial feature that forces the model's output to be a syntactically correct JSON object, making it reliable for use in downstream applications.\n",
    "* **Clear Input Separation**: Delimiters (`####`) are used to cleanly separate the raw user query from the instructions in the prompt, which is a best practice for improving model performance."
   ]
  },
  {
   "cell_type": "code",
   "execution_count": 1,
   "id": "87f647e2",
   "metadata": {
    "height": 115
   },
   "outputs": [],
   "source": [
    "import os\n",
    "import openai\n",
    "from dotenv import load_dotenv, find_dotenv\n",
    "_ = load_dotenv(find_dotenv()) # read local .env file\n",
    "\n",
    "openai.api_key  = os.environ['OPENAI_API_KEY']"
   ]
  },
  {
   "cell_type": "code",
   "execution_count": 4,
   "id": "a406fe5e",
   "metadata": {
    "height": 30
   },
   "outputs": [],
   "source": [
    "openai.ChatCompletion.create?"
   ]
  },
  {
   "cell_type": "code",
   "execution_count": 6,
   "id": "101624a2",
   "metadata": {
    "height": 217
   },
   "outputs": [],
   "source": [
    "def get_completion_from_messages(messages, \n",
    "                                 model=\"gpt-4o\", \n",
    "                                 temperature=0, \n",
    "                                 max_tokens=500):\n",
    "    response = openai.ChatCompletion.create(\n",
    "        model=model,\n",
    "        messages=messages,\n",
    "        temperature=temperature, \n",
    "        max_tokens=max_tokens,\n",
    "        response_format={\"type\": \"json_object\"} \n",
    "    )\n",
    "    return response.choices[0].message[\"content\"]"
   ]
  },
  {
   "cell_type": "markdown",
   "id": "d3db09d1-6253-4c9e-9ad1-5a6134df3e6c",
   "metadata": {},
   "source": [
    "#### Classify customer queries to handle different cases"
   ]
  },
  {
   "cell_type": "code",
   "execution_count": 7,
   "id": "8db30f42",
   "metadata": {
    "height": 812
   },
   "outputs": [
    {
     "name": "stdout",
     "output_type": "stream",
     "text": [
      "{\n",
      "  \"primary\": \"Account Management\",\n",
      "  \"secondary\": \"Close account\"\n",
      "}\n"
     ]
    }
   ],
   "source": [
    "delimiter = \"####\"\n",
    "system_message = f\"\"\"\n",
    "You will be provided with customer service queries. \\\n",
    "The customer service query will be delimited with \\\n",
    "{delimiter} characters.\n",
    "Classify each query into a primary category \\\n",
    "and a secondary category. \n",
    "Provide your output in json format with the \\\n",
    "keys: primary and secondary.\n",
    "\n",
    "Primary categories: Billing, Technical Support, \\\n",
    "Account Management, or General Inquiry.\n",
    "\n",
    "Billing secondary categories:\n",
    "Unsubscribe or upgrade\n",
    "Add a payment method\n",
    "Explanation for charge\n",
    "Dispute a charge\n",
    "\n",
    "Technical Support secondary categories:\n",
    "General troubleshooting\n",
    "Device compatibility\n",
    "Software updates\n",
    "\n",
    "Account Management secondary categories:\n",
    "Password reset\n",
    "Update personal information\n",
    "Close account\n",
    "Account security\n",
    "\n",
    "General Inquiry secondary categories:\n",
    "Product information\n",
    "Pricing\n",
    "Feedback\n",
    "Speak to a human\n",
    "\n",
    "\"\"\"\n",
    "user_message = f\"\"\"\\\n",
    "I want you to delete my profile and all of my user data\"\"\"\n",
    "messages =  [  \n",
    "{'role':'system', \n",
    " 'content': system_message},    \n",
    "{'role':'user', \n",
    " 'content': f\"{delimiter}{user_message}{delimiter}\"},  \n",
    "] \n",
    "response = get_completion_from_messages(messages)\n",
    "print(response)"
   ]
  },
  {
   "cell_type": "code",
   "execution_count": 8,
   "id": "f9a5a790",
   "metadata": {
    "height": 183
   },
   "outputs": [
    {
     "name": "stdout",
     "output_type": "stream",
     "text": [
      "{\n",
      "  \"primary\": \"General Inquiry\",\n",
      "  \"secondary\": \"Product information\"\n",
      "}\n"
     ]
    }
   ],
   "source": [
    "user_message = f\"\"\"\\\n",
    "Tell me more about your flat screen tvs\"\"\"\n",
    "messages =  [  \n",
    "{'role':'system', \n",
    " 'content': system_message},    \n",
    "{'role':'user', \n",
    " 'content': f\"{delimiter}{user_message}{delimiter}\"},  \n",
    "] \n",
    "response = get_completion_from_messages(messages)\n",
    "print(response)"
   ]
  },
  {
   "cell_type": "code",
   "execution_count": 9,
   "id": "5cfd2fae",
   "metadata": {
    "height": 489
   },
   "outputs": [
    {
     "name": "stdout",
     "output_type": "stream",
     "text": [
      "Query: I want to cancel my subscription.\n",
      "Response: {\n",
      "  \"primary\": \"Billing\",\n",
      "  \"secondary\": \"Unsubscribe or upgrade\"\n",
      "}\n",
      "====================================================================================================\n",
      "Query: My app is crashing on my new Android phone. Can you help?\n",
      "Response: {\n",
      "  \"primary\": \"Technical Support\",\n",
      "  \"secondary\": \"Device compatibility\"\n",
      "}\n",
      "====================================================================================================\n",
      "Query: How much does your premium plan cost?\n",
      "Response: {\n",
      "  \"primary\": \"General Inquiry\",\n",
      "  \"secondary\": \"Pricing\"\n",
      "}\n",
      "====================================================================================================\n",
      "Query: I was charged twice this month, please refund one of the charges.\n",
      "Response: {\n",
      "  \"primary\": \"Billing\",\n",
      "  \"secondary\": \"Dispute a charge\"\n",
      "}\n",
      "====================================================================================================\n",
      "Query: I can't remember my password and need to reset it.\n",
      "Response: {\n",
      "  \"primary\": \"Account Management\",\n",
      "  \"secondary\": \"Password reset\"\n",
      "}\n",
      "====================================================================================================\n",
      "Query: I need to speak to a human agent right away.\n",
      "Response: {\n",
      "  \"primary\": \"General Inquiry\",\n",
      "  \"secondary\": \"Speak to a human\"\n",
      "}\n",
      "====================================================================================================\n",
      "Query: How can I update my credit card information?\n",
      "Response: {\n",
      "  \"primary\": \"Billing\",\n",
      "  \"secondary\": \"Add a payment method\"\n",
      "}\n",
      "====================================================================================================\n",
      "Query: I think someone else accessed my account, what should I do?\n",
      "Response: {\n",
      "  \"primary\": \"Account Management\",\n",
      "  \"secondary\": \"Account security\"\n",
      "}\n",
      "====================================================================================================\n",
      "Query: Just wanted to say your new update is fantastic!\n",
      "Response: {\n",
      "  \"primary\": \"General Inquiry\",\n",
      "  \"secondary\": \"Feedback\"\n",
      "}\n",
      "====================================================================================================\n",
      "Query: What are the main differences between the free and pro versions?\n",
      "Response: {\n",
      "  \"primary\": \"General Inquiry\",\n",
      "  \"secondary\": \"Product information\"\n",
      "}\n",
      "====================================================================================================\n"
     ]
    }
   ],
   "source": [
    "# The list of queries to test\n",
    "customer_queries = [\n",
    "    \"I want to cancel my subscription.\",\n",
    "    \"My app is crashing on my new Android phone. Can you help?\",\n",
    "    \"How much does your premium plan cost?\",\n",
    "    \"I was charged twice this month, please refund one of the charges.\",\n",
    "    \"I can't remember my password and need to reset it.\",\n",
    "    \"I need to speak to a human agent right away.\",\n",
    "    \"How can I update my credit card information?\",\n",
    "    \"I think someone else accessed my account, what should I do?\",\n",
    "    \"Just wanted to say your new update is fantastic!\",\n",
    "    \"What are the main differences between the free and pro versions?\"\n",
    "]\n",
    "\n",
    "\n",
    "# Loop through each query and print the classification\n",
    "for query in customer_queries:\n",
    "    print(f\"Query: {query}\")\n",
    "    \n",
    "    messages =  [  \n",
    "        {'role':'system', \n",
    "         'content': system_message},    \n",
    "        {'role':'user', \n",
    "         'content': f\"{delimiter}{query}{delimiter}\"},  \n",
    "    ] \n",
    "    \n",
    "    response = get_completion_from_messages(messages)\n",
    "    print(f\"Response: {response}\\n\" + \"=\"*100)"
   ]
  },
  {
   "cell_type": "code",
   "execution_count": null,
   "id": "17f137f7",
   "metadata": {},
   "outputs": [],
   "source": []
  },
  {
   "cell_type": "code",
   "execution_count": null,
   "id": "e0e21541",
   "metadata": {},
   "outputs": [],
   "source": []
  }
 ],
 "metadata": {
  "kernelspec": {
   "display_name": "Python 3 (ipykernel)",
   "language": "python",
   "name": "python3"
  },
  "language_info": {
   "codemirror_mode": {
    "name": "ipython",
    "version": 3
   },
   "file_extension": ".py",
   "mimetype": "text/x-python",
   "name": "python",
   "nbconvert_exporter": "python",
   "pygments_lexer": "ipython3",
   "version": "3.9.19"
  }
 },
 "nbformat": 4,
 "nbformat_minor": 5
}
