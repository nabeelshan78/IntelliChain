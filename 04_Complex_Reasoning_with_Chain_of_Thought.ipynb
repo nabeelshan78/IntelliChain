{
 "cells": [
  {
   "cell_type": "markdown",
   "id": "0e7531d5-0c22-49ad-9d37-8b08eec7d4e0",
   "metadata": {},
   "source": [
    "# Process Inputs: Chain-of-Thought Reasoning\n",
    "\n",
    "This notebook demonstrates **Chain-of-Thought (CoT) prompting**, a technique that significantly improves an LLM's reasoning ability by instructing it to \"think step-by-step\" before giving a final answer. 🧠\n",
    "\n",
    "---\n",
    "### What's Happening Here?\n",
    "\n",
    "Instead of asking for a direct answer, we provide the model with a detailed, multi-step process in the **system prompt**. For a customer query, this process includes:\n",
    "1.  Identifying the product in the query.\n",
    "2.  Checking it against an internal product list.\n",
    "3.  Detecting and verifying any assumptions the user makes.\n",
    "4.  Formulating a polite and accurate final response.\n",
    "\n",
    "---\n",
    "### Key Takeaways\n",
    "\n",
    "* **Improved Accuracy**: By breaking down complex problems, the model is less likely to make logical errors.\n",
    "* **Interpretability**: The model outputs its entire reasoning process, separated by delimiters (`####`). This \"inner monologue\" allows us to see exactly how it arrived at its conclusion, which is great for debugging.\n",
    "* **Final Answer Extraction**: The code demonstrates how to easily parse the model's full output to show only the clean, final response to the end-user, hiding the intermediate reasoning steps."
   ]
  },
  {
   "cell_type": "code",
   "execution_count": 20,
   "id": "0df1c9e8",
   "metadata": {
    "height": 132
   },
   "outputs": [],
   "source": [
    "import os\n",
    "import openai\n",
    "import sys\n",
    "from dotenv import load_dotenv, find_dotenv\n",
    "_ = load_dotenv(find_dotenv())\n",
    "\n",
    "openai.api_key  = os.environ['OPENAI_API_KEY']"
   ]
  },
  {
   "cell_type": "code",
   "execution_count": 21,
   "id": "b98a05b6",
   "metadata": {
    "height": 183
   },
   "outputs": [],
   "source": [
    "def get_completion_from_messages(messages, \n",
    "                                 model=\"gpt-4o\", \n",
    "                                 temperature=0,\n",
    "                                 max_tokens=500):\n",
    "    response = openai.ChatCompletion.create(\n",
    "        model=model,\n",
    "        messages=messages,\n",
    "        temperature=temperature, \n",
    "        max_tokens=max_tokens\n",
    "    )\n",
    "    return response.choices[0].message[\"content\"]"
   ]
  },
  {
   "cell_type": "code",
   "execution_count": null,
   "id": "3cb7d241",
   "metadata": {
    "height": 30
   },
   "outputs": [],
   "source": []
  },
  {
   "cell_type": "markdown",
   "id": "119d273f-df72-47e2-a9a6-a8994d742aec",
   "metadata": {},
   "source": [
    "## Chain-of-Thought Prompting"
   ]
  },
  {
   "cell_type": "code",
   "execution_count": 22,
   "id": "e0e66beb-8fb5-4c7b-afa7-13d20ded1d49",
   "metadata": {
    "height": 1543
   },
   "outputs": [],
   "source": [
    "delimiter = \"####\"\n",
    "system_message = f\"\"\"\n",
    "Follow these steps to answer the customer queries.\n",
    "The customer query will be delimited with four hashtags,\\\n",
    "i.e. {delimiter}. \n",
    "\n",
    "Step 1:{delimiter} First decide whether the user is \\\n",
    "asking a question about a specific product or products. \\\n",
    "Product cateogry doesn't count. \n",
    "\n",
    "Step 2:{delimiter} If the user is asking about \\\n",
    "specific products, identify whether \\\n",
    "the products are in the following list.\n",
    "All available products: \n",
    "1. Product: TechPro Ultrabook\n",
    "   Category: Computers and Laptops\n",
    "   Brand: TechPro\n",
    "   Model Number: TP-UB100\n",
    "   Warranty: 1 year\n",
    "   Rating: 4.5\n",
    "   Features: 13.3-inch display, 8GB RAM, 256GB SSD, Intel Core i5 processor\n",
    "   Description: A sleek and lightweight ultrabook for everyday use.\n",
    "   Price: $799.99\n",
    "\n",
    "2. Product: BlueWave Gaming Laptop\n",
    "   Category: Computers and Laptops\n",
    "   Brand: BlueWave\n",
    "   Model Number: BW-GL200\n",
    "   Warranty: 2 years\n",
    "   Rating: 4.7\n",
    "   Features: 15.6-inch display, 16GB RAM, 512GB SSD, NVIDIA GeForce RTX 3060\n",
    "   Description: A high-performance gaming laptop for an immersive experience.\n",
    "   Price: $1199.99\n",
    "\n",
    "3. Product: PowerLite Convertible\n",
    "   Category: Computers and Laptops\n",
    "   Brand: PowerLite\n",
    "   Model Number: PL-CV300\n",
    "   Warranty: 1 year\n",
    "   Rating: 4.3\n",
    "   Features: 14-inch touchscreen, 8GB RAM, 256GB SSD, 360-degree hinge\n",
    "   Description: A versatile convertible laptop with a responsive touchscreen.\n",
    "   Price: $699.99\n",
    "\n",
    "4. Product: TechPro Desktop\n",
    "   Category: Computers and Laptops\n",
    "   Brand: TechPro\n",
    "   Model Number: TP-DT500\n",
    "   Warranty: 1 year\n",
    "   Rating: 4.4\n",
    "   Features: Intel Core i7 processor, 16GB RAM, 1TB HDD, NVIDIA GeForce GTX 1660\n",
    "   Description: A powerful desktop computer for work and play.\n",
    "   Price: $999.99\n",
    "\n",
    "5. Product: BlueWave Chromebook\n",
    "   Category: Computers and Laptops\n",
    "   Brand: BlueWave\n",
    "   Model Number: BW-CB100\n",
    "   Warranty: 1 year\n",
    "   Rating: 4.1\n",
    "   Features: 11.6-inch display, 4GB RAM, 32GB eMMC, Chrome OS\n",
    "   Description: A compact and affordable Chromebook for everyday tasks.\n",
    "   Price: $249.99\n",
    "\n",
    "Step 3:{delimiter} If the message contains products \\\n",
    "in the list above, list any assumptions that the \\\n",
    "user is making in their \\\n",
    "message e.g. that Laptop X is bigger than \\\n",
    "Laptop Y, or that Laptop Z has a 2 year warranty.\n",
    "\n",
    "Step 4:{delimiter}: If the user made any assumptions, \\\n",
    "figure out whether the assumption is true based on your \\\n",
    "product information. \n",
    "\n",
    "Step 5:{delimiter}: First, politely correct the \\\n",
    "customer's incorrect assumptions if applicable. \\\n",
    "Only mention or reference products in the list of \\\n",
    "5 available products, as these are the only 5 \\\n",
    "products that the store sells. \\\n",
    "Answer the customer in a friendly tone.\n",
    "\n",
    "Use the following format:\n",
    "Step 1:{delimiter} <step 1 reasoning>\n",
    "Step 2:{delimiter} <step 2 reasoning>\n",
    "Step 3:{delimiter} <step 3 reasoning>\n",
    "Step 4:{delimiter} <step 4 reasoning>\n",
    "Response to user:{delimiter} <response to customer>\n",
    "\n",
    "Make sure to include {delimiter} to separate every step.\n",
    "\"\"\""
   ]
  },
  {
   "cell_type": "code",
   "execution_count": 23,
   "id": "6be1ea0a-a816-4694-8a79-77d985f2e274",
   "metadata": {
    "height": 234
   },
   "outputs": [
    {
     "name": "stdout",
     "output_type": "stream",
     "text": [
      "Step 1:#### The user is asking a question about specific products.\n",
      "\n",
      "Step 2:#### The products mentioned are \"BlueWave Chromebook\" and \"TechPro Desktop,\" which are both in the list of available products.\n",
      "\n",
      "Step 3:#### The user is assuming that the BlueWave Chromebook is more expensive than the TechPro Desktop.\n",
      "\n",
      "Step 4:#### Based on the product information, the BlueWave Chromebook is priced at $249.99, and the TechPro Desktop is priced at $999.99. Therefore, the assumption that the BlueWave Chromebook is more expensive than the TechPro Desktop is incorrect.\n",
      "\n",
      "Response to user:#### It seems there was a mix-up! The BlueWave Chromebook is actually less expensive than the TechPro Desktop. The BlueWave Chromebook is priced at $249.99, while the TechPro Desktop is priced at $999.99. If you have any more questions, feel free to ask!\n"
     ]
    }
   ],
   "source": [
    "user_message = f\"\"\"\n",
    "by how much is the BlueWave Chromebook more expensive \\\n",
    "than the TechPro Desktop\"\"\"\n",
    "\n",
    "messages =  [  \n",
    "{'role':'system', \n",
    " 'content': system_message},    \n",
    "{'role':'user', \n",
    " 'content': f\"{delimiter}{user_message}{delimiter}\"},  \n",
    "] \n",
    "\n",
    "response = get_completion_from_messages(messages)\n",
    "print(response)"
   ]
  },
  {
   "cell_type": "code",
   "execution_count": 24,
   "id": "f51afe6d",
   "metadata": {
    "height": 183
   },
   "outputs": [
    {
     "name": "stdout",
     "output_type": "stream",
     "text": [
      "Step 1:#### The user is not asking about a specific product or products. They are inquiring about a product category, which is TVs.\n",
      "Step 2:#### Since the user is not asking about specific products, there is no need to check against the list of available products.\n",
      "Step 3:#### There are no assumptions made by the user about specific products.\n",
      "Step 4:#### Since there are no assumptions, there is nothing to verify.\n",
      "Response to user:#### Thank you for your inquiry! Currently, we do not sell TVs. Our store specializes in a selection of computers and laptops. If you have any questions about our available products, feel free to ask!\n"
     ]
    }
   ],
   "source": [
    "user_message = f\"\"\"\n",
    "do you sell tvs\"\"\"\n",
    "messages =  [  \n",
    "{'role':'system', \n",
    " 'content': system_message},    \n",
    "{'role':'user', \n",
    " 'content': f\"{delimiter}{user_message}{delimiter}\"},  \n",
    "] \n",
    "response = get_completion_from_messages(messages)\n",
    "print(response)"
   ]
  },
  {
   "cell_type": "markdown",
   "id": "a552a4f6-5e65-4d85-9579-5263f720aa10",
   "metadata": {},
   "source": [
    "## Inner Monologue\n",
    "- Since we asked the LLM to separate its reasoning steps by a delimiter, we can hide the chain-of-thought reasoning from the final output that the user sees."
   ]
  },
  {
   "cell_type": "code",
   "execution_count": 25,
   "id": "2a825237",
   "metadata": {
    "height": 115
   },
   "outputs": [
    {
     "name": "stdout",
     "output_type": "stream",
     "text": [
      "Thank you for your inquiry! Currently, we do not sell TVs. Our store specializes in a selection of computers and laptops. If you have any questions about our available products, feel free to ask!\n"
     ]
    }
   ],
   "source": [
    "try:\n",
    "    final_response = response.split(delimiter)[-1].strip()\n",
    "except Exception as e:\n",
    "    final_response = \"Sorry, I'm having trouble right now, please try asking another question.\"\n",
    "    \n",
    "print(final_response)"
   ]
  },
  {
   "cell_type": "code",
   "execution_count": null,
   "id": "388db671",
   "metadata": {
    "height": 30
   },
   "outputs": [],
   "source": []
  },
  {
   "cell_type": "code",
   "execution_count": null,
   "id": "ef8191b1",
   "metadata": {
    "height": 30
   },
   "outputs": [],
   "source": []
  },
  {
   "cell_type": "code",
   "execution_count": 26,
   "id": "e52c13dd",
   "metadata": {
    "height": 351
   },
   "outputs": [],
   "source": [
    "test_queries = [\n",
    "    # 1. Incorrect assumption\n",
    "    \"By how much is the BlueWave Chromebook more expensive than the TechPro Desktop?\",\n",
    "    \n",
    "    # 2. Correct assumption (about features)\n",
    "    \"I need the most powerful gaming machine. I assume the BlueWave Gaming Laptop is a better choice than the TechPro Desktop because of its graphics card, right?\",\n",
    "    \n",
    "    # 3. Product not in the list\n",
    "    \"What is the price of a 16-inch MacBook Pro?\",\n",
    "    \n",
    "    # 4. Simple, direct question\n",
    "    \"What is the warranty on the PowerLite Convertible?\",\n",
    "    \n",
    "    # 5. Vague question\n",
    "    \"Tell me about the TechPro computer.\",\n",
    "    \n",
    "    # 6. General question (not about a specific product)\n",
    "    \"Do you sell any computers with a touchscreen?\"\n",
    "]"
   ]
  },
  {
   "cell_type": "code",
   "execution_count": 28,
   "id": "e33589f3",
   "metadata": {
    "height": 759
   },
   "outputs": [
    {
     "name": "stdout",
     "output_type": "stream",
     "text": [
      "Processing Query: 'By how much is the BlueWave Chromebook more expensive than the TechPro Desktop?'\n",
      "====================================================================================================\n",
      "MODEL'S FULL RESPONSE:\n",
      "Step 1:#### The user is asking a question about specific products.\n",
      "\n",
      "Step 2:#### The user is asking about the BlueWave Chromebook and the TechPro Desktop, which are both in the list of available products.\n",
      "\n",
      "Step 3:#### The user is assuming that the BlueWave Chromebook is more expensive than the TechPro Desktop.\n",
      "\n",
      "Step 4:#### Based on the product information, the BlueWave Chromebook is priced at $249.99, and the TechPro Desktop is priced at $999.99. Therefore, the assumption that the BlueWave Chromebook is more expensive than the TechPro Desktop is incorrect.\n",
      "\n",
      "Response to user:#### It seems there was a mix-up! The BlueWave Chromebook is actually less expensive than the TechPro Desktop. The BlueWave Chromebook is priced at $249.99, while the TechPro Desktop is priced at $999.99. If you have any more questions or need further assistance, feel free to ask!\n",
      "--------------------------------------------------\n",
      "FINAL RESPONSE TO USER:\n",
      "It seems there was a mix-up! The BlueWave Chromebook is actually less expensive than the TechPro Desktop. The BlueWave Chromebook is priced at $249.99, while the TechPro Desktop is priced at $999.99. If you have any more questions or need further assistance, feel free to ask!\n",
      "\n",
      "====================================================================================================\n",
      "\n",
      "Processing Query: 'I need the most powerful gaming machine. I assume the BlueWave Gaming Laptop is a better choice than the TechPro Desktop because of its graphics card, right?'\n",
      "====================================================================================================\n",
      "MODEL'S FULL RESPONSE:\n",
      "Step 1:#### The user is asking a question about specific products.\n",
      "\n",
      "Step 2:#### The products mentioned are the BlueWave Gaming Laptop and the TechPro Desktop, which are both in the list of available products.\n",
      "\n",
      "Step 3:#### The user assumes that the BlueWave Gaming Laptop is a better choice than the TechPro Desktop because of its graphics card.\n",
      "\n",
      "Step 4:#### The BlueWave Gaming Laptop has an NVIDIA GeForce RTX 3060 graphics card, while the TechPro Desktop has an NVIDIA GeForce GTX 1660 graphics card. The assumption that the BlueWave Gaming Laptop has a better graphics card is correct, as the RTX 3060 is generally more powerful than the GTX 1660.\n",
      "\n",
      "Response to user:#### You are correct! The BlueWave Gaming Laptop does have a more powerful graphics card, the NVIDIA GeForce RTX 3060, compared to the TechPro Desktop's NVIDIA GeForce GTX 1660. If you're looking for a gaming machine with superior graphics performance, the BlueWave Gaming Laptop would be a great choice. Let me know if you have any more questions!\n",
      "--------------------------------------------------\n",
      "FINAL RESPONSE TO USER:\n",
      "You are correct! The BlueWave Gaming Laptop does have a more powerful graphics card, the NVIDIA GeForce RTX 3060, compared to the TechPro Desktop's NVIDIA GeForce GTX 1660. If you're looking for a gaming machine with superior graphics performance, the BlueWave Gaming Laptop would be a great choice. Let me know if you have any more questions!\n",
      "\n",
      "====================================================================================================\n",
      "\n",
      "Processing Query: 'What is the price of a 16-inch MacBook Pro?'\n",
      "====================================================================================================\n",
      "MODEL'S FULL RESPONSE:\n",
      "Step 1:#### The user is asking a question about a specific product, the 16-inch MacBook Pro.\n",
      "\n",
      "Step 2:#### The 16-inch MacBook Pro is not in the list of available products.\n",
      "\n",
      "Step 3:#### There are no assumptions to identify since the product is not in the list.\n",
      "\n",
      "Step 4:#### There are no assumptions to verify since the product is not in the list.\n",
      "\n",
      "Response to user:#### I'm sorry, but we don't have the 16-inch MacBook Pro in our product lineup. We currently offer a selection of laptops and computers from brands like TechPro, BlueWave, and PowerLite. If you have any questions about these products, feel free to ask!\n",
      "--------------------------------------------------\n",
      "FINAL RESPONSE TO USER:\n",
      "I'm sorry, but we don't have the 16-inch MacBook Pro in our product lineup. We currently offer a selection of laptops and computers from brands like TechPro, BlueWave, and PowerLite. If you have any questions about these products, feel free to ask!\n",
      "\n",
      "====================================================================================================\n",
      "\n",
      "Processing Query: 'What is the warranty on the PowerLite Convertible?'\n",
      "====================================================================================================\n",
      "MODEL'S FULL RESPONSE:\n",
      "Step 1:#### The user is asking a question about a specific product, the PowerLite Convertible.\n",
      "\n",
      "Step 2:#### The PowerLite Convertible is in the list of available products.\n",
      "\n",
      "Step 3:#### The user is assuming that the PowerLite Convertible has a warranty, but they are not making any specific assumptions about the duration.\n",
      "\n",
      "Step 4:#### The assumption that the PowerLite Convertible has a warranty is true. The PowerLite Convertible comes with a 1-year warranty.\n",
      "\n",
      "Response to user:#### The PowerLite Convertible comes with a 1-year warranty. If you have any more questions about this product or any others, feel free to ask!\n",
      "--------------------------------------------------\n",
      "FINAL RESPONSE TO USER:\n",
      "The PowerLite Convertible comes with a 1-year warranty. If you have any more questions about this product or any others, feel free to ask!\n",
      "\n",
      "====================================================================================================\n",
      "\n",
      "Processing Query: 'Tell me about the TechPro computer.'\n",
      "====================================================================================================\n",
      "MODEL'S FULL RESPONSE:\n",
      "Step 1:#### The user is asking about a specific product, the \"TechPro computer.\"\n",
      "\n",
      "Step 2:#### The user is likely referring to the \"TechPro Desktop\" from the list of available products.\n",
      "\n",
      "Step 3:#### The user has not made any specific assumptions in their message.\n",
      "\n",
      "Step 4:#### Since there are no assumptions made by the user, there is nothing to verify.\n",
      "\n",
      "Response to user:#### The TechPro Desktop is a powerful computer designed for both work and play. It features an Intel Core i7 processor, 16GB of RAM, a 1TB HDD, and an NVIDIA GeForce GTX 1660 graphics card. It comes with a 1-year warranty and has a rating of 4.4. The price for this desktop is $999.99. If you have any more questions or need further details, feel free to ask!\n",
      "--------------------------------------------------\n",
      "FINAL RESPONSE TO USER:\n",
      "The TechPro Desktop is a powerful computer designed for both work and play. It features an Intel Core i7 processor, 16GB of RAM, a 1TB HDD, and an NVIDIA GeForce GTX 1660 graphics card. It comes with a 1-year warranty and has a rating of 4.4. The price for this desktop is $999.99. If you have any more questions or need further details, feel free to ask!\n",
      "\n",
      "====================================================================================================\n",
      "\n",
      "Processing Query: 'Do you sell any computers with a touchscreen?'\n",
      "====================================================================================================\n",
      "MODEL'S FULL RESPONSE:\n",
      "Step 1:#### The user is asking a question about specific products, specifically computers with a touchscreen.\n",
      "\n",
      "Step 2:#### The user is not asking about a specific product by name, but they are inquiring about a feature (touchscreen) that is available in one of the products listed.\n",
      "\n",
      "Step 3:#### The user assumes that there might be a computer with a touchscreen available for sale.\n",
      "\n",
      "Step 4:#### The assumption is true. The PowerLite Convertible is a computer with a 14-inch touchscreen.\n",
      "\n",
      "Response to user:#### Yes, we do have a computer with a touchscreen. The PowerLite Convertible features a 14-inch touchscreen and is a versatile convertible laptop with a responsive touchscreen. If you have any more questions or need further assistance, feel free to ask!\n",
      "--------------------------------------------------\n",
      "FINAL RESPONSE TO USER:\n",
      "Yes, we do have a computer with a touchscreen. The PowerLite Convertible features a 14-inch touchscreen and is a versatile convertible laptop with a responsive touchscreen. If you have any more questions or need further assistance, feel free to ask!\n",
      "\n",
      "====================================================================================================\n",
      "\n"
     ]
    }
   ],
   "source": [
    "test_queries = [\n",
    "    \"By how much is the BlueWave Chromebook more expensive than the TechPro Desktop?\",\n",
    "    \"I need the most powerful gaming machine. I assume the BlueWave Gaming Laptop is a better choice than the TechPro Desktop because of its graphics card, right?\",\n",
    "    \"What is the price of a 16-inch MacBook Pro?\",\n",
    "    \"What is the warranty on the PowerLite Convertible?\",\n",
    "    \"Tell me about the TechPro computer.\",\n",
    "    \"Do you sell any computers with a touchscreen?\"\n",
    "]\n",
    "\n",
    "# --- Processing Loop ---\n",
    "for query in test_queries:\n",
    "    print(f\"Processing Query: '{query}'\")\n",
    "    print(\"=\" * 100)\n",
    "    \n",
    "    user_message = query\n",
    "    \n",
    "    messages =  [  \n",
    "    {'role':'system', \n",
    "     'content': system_message},    \n",
    "    {'role':'user', \n",
    "     'content': f\"{delimiter}{user_message}{delimiter}\"},  \n",
    "    ] \n",
    "    \n",
    "    \n",
    "    try:\n",
    "        response = get_completion_from_messages(messages)\n",
    "        \n",
    "        print(\"MODEL'S FULL RESPONSE:\")\n",
    "        print(response)\n",
    "        print(\"-\" * 50)\n",
    "        \n",
    "        try:\n",
    "            final_response = response.split(delimiter)[-1].strip()\n",
    "        except Exception as e:\n",
    "            final_response = \"Sorry, I'm having trouble right now, please try asking another question.\"\n",
    "\n",
    "        print(\"FINAL RESPONSE TO USER:\")\n",
    "        print(final_response)\n",
    "        \n",
    "    except Exception as e:\n",
    "        print(f\"An error occurred: {e}\")\n",
    "        \n",
    "    print(\"\\n\" + \"=\"*100 + \"\\n\")"
   ]
  },
  {
   "cell_type": "code",
   "execution_count": null,
   "id": "f36d6903",
   "metadata": {},
   "outputs": [],
   "source": []
  }
 ],
 "metadata": {
  "kernelspec": {
   "display_name": "Python 3 (ipykernel)",
   "language": "python",
   "name": "python3"
  },
  "language_info": {
   "codemirror_mode": {
    "name": "ipython",
    "version": 3
   },
   "file_extension": ".py",
   "mimetype": "text/x-python",
   "name": "python",
   "nbconvert_exporter": "python",
   "pygments_lexer": "ipython3",
   "version": "3.9.19"
  }
 },
 "nbformat": 4,
 "nbformat_minor": 5
}
